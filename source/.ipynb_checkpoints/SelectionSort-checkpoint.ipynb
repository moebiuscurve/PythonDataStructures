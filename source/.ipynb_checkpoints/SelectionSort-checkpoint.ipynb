{
 "cells": [
  {
   "cell_type": "code",
   "execution_count": 1,
   "metadata": {},
   "outputs": [],
   "source": [
    "import numpy as np"
   ]
  },
  {
   "cell_type": "code",
   "execution_count": 2,
   "metadata": {},
   "outputs": [],
   "source": [
    "def selectionSort(sortList):\n",
    "    n = len(sortList)\n",
    "    for i in range(n-1):\n",
    "        k = i\n",
    "        for j in range(i, n):\n",
    "            if sortList[j] < sortList[k]:\n",
    "                k = j\n",
    "        temp = sortList[k]\n",
    "        sortList[k] = sortList[i]\n",
    "        sortList[i] = temp"
   ]
  },
  {
   "cell_type": "code",
   "execution_count": 3,
   "metadata": {},
   "outputs": [
    {
     "name": "stdout",
     "output_type": "stream",
     "text": [
      "[2, 3, 5, 7, 8, 15, 22, 100]\n"
     ]
    }
   ],
   "source": [
    "#sortList = [8, 5, 7, 3, 2, 100, 15, 22]\n",
    "#sortList = [100, 22, 15, 8, 7, 5, 3, 2]\n",
    "sortList = [2, 3, 5, 7, 8, 15, 22, 100]\n",
    "selectionSort(sortList)\n",
    "print(sortList)"
   ]
  },
  {
   "cell_type": "code",
   "execution_count": null,
   "metadata": {},
   "outputs": [],
   "source": []
  },
  {
   "cell_type": "code",
   "execution_count": 4,
   "metadata": {},
   "outputs": [],
   "source": [
    "cmp = 0\n",
    "swp = 0\n",
    "def selectionSortTimed(sortList):\n",
    "    global cmp, swp\n",
    "    n = len(sortList)\n",
    "    for i in range(n-1):\n",
    "        k = i\n",
    "        for j in range(i, n):\n",
    "            cmp += 1\n",
    "            if sortList[j] < sortList[k]:\n",
    "                k = j\n",
    "        temp = sortList[k]\n",
    "        sortList[k] = sortList[i]\n",
    "        sortList[i] = temp\n",
    "        swp += 1"
   ]
  },
  {
   "cell_type": "code",
   "execution_count": 5,
   "metadata": {},
   "outputs": [
    {
     "name": "stdout",
     "output_type": "stream",
     "text": [
      "[2, 3, 5, 7, 8, 15, 22, 100]\n",
      "cmp:  35\n",
      "swp:  7\n"
     ]
    }
   ],
   "source": [
    "sortList = [8, 5, 7, 3, 2, 100, 15, 22]\n",
    "#sortList = [100, 22, 15, 8, 7, 5, 3, 2]\n",
    "#sortList = [2, 3, 5, 7, 8, 15, 22, 100]\n",
    "cmp, swp = 0, 0\n",
    "selectionSortTimed(sortList)\n",
    "print(sortList)\n",
    "print(\"cmp: \", cmp)\n",
    "print(\"swp: \", swp)"
   ]
  },
  {
   "cell_type": "code",
   "execution_count": null,
   "metadata": {},
   "outputs": [],
   "source": []
  }
 ],
 "metadata": {
  "kernelspec": {
   "display_name": "Python 3",
   "language": "python",
   "name": "python3"
  },
  "language_info": {
   "codemirror_mode": {
    "name": "ipython",
    "version": 3
   },
   "file_extension": ".py",
   "mimetype": "text/x-python",
   "name": "python",
   "nbconvert_exporter": "python",
   "pygments_lexer": "ipython3",
   "version": "3.6.8"
  }
 },
 "nbformat": 4,
 "nbformat_minor": 2
}
