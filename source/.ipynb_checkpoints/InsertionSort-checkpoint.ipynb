{
 "cells": [
  {
   "cell_type": "code",
   "execution_count": 1,
   "metadata": {},
   "outputs": [],
   "source": [
    "import numpy as np"
   ]
  },
  {
   "cell_type": "code",
   "execution_count": 2,
   "metadata": {},
   "outputs": [],
   "source": [
    "def insertionSort(sortList):\n",
    "    n = len(sortList)\n",
    "    for i in range(1, n):\n",
    "        j = i -1\n",
    "        x = sortList[i]\n",
    "        while j > -1 and sortList[j] > x:\n",
    "            sortList[j+1] = sortList[j]\n",
    "            j -= 1\n",
    "        sortList[j+1] = x"
   ]
  },
  {
   "cell_type": "code",
   "execution_count": 3,
   "metadata": {},
   "outputs": [
    {
     "name": "stdout",
     "output_type": "stream",
     "text": [
      "[2, 3, 5, 7, 8, 15, 22, 100]\n"
     ]
    }
   ],
   "source": [
    "#sortList = [8, 5, 7, 3, 2, 100, 15, 22]\n",
    "#sortList = [100, 22, 15, 8, 7, 5, 3, 2]\n",
    "sortList = [2, 3, 5, 7, 8, 15, 22, 100]\n",
    "insertionSort(sortList)\n",
    "print(sortList)"
   ]
  },
  {
   "cell_type": "code",
   "execution_count": null,
   "metadata": {},
   "outputs": [],
   "source": []
  },
  {
   "cell_type": "code",
   "execution_count": 4,
   "metadata": {},
   "outputs": [],
   "source": [
    "# comparison and swap counts\n",
    "cmp = 0\n",
    "swp = 0\n",
    "def insertionSortTimed(sortList):\n",
    "    global cmp, swp\n",
    "    n = len(sortList)\n",
    "    for i in range(1, n):\n",
    "        j = i -1\n",
    "        x = sortList[i]\n",
    "        cmpf = False\n",
    "        cmp += 1\n",
    "        while j > -1 and sortList[j] > x:\n",
    "            if cmpf == False:\n",
    "                cmpf =True\n",
    "            else:\n",
    "                cmp += 1\n",
    "            swp += 1\n",
    "            sortList[j+1] = sortList[j]\n",
    "            j -= 1\n",
    "        sortList[j+1] = x"
   ]
  },
  {
   "cell_type": "code",
   "execution_count": 5,
   "metadata": {},
   "outputs": [
    {
     "name": "stdout",
     "output_type": "stream",
     "text": [
      "[2, 3, 5, 7, 8, 15, 22, 100]\n",
      "cmp:  12\n",
      "swp:  11\n"
     ]
    }
   ],
   "source": [
    "sortList = [8, 5, 7, 3, 2, 100, 15, 22]\n",
    "#sortList = [100, 22, 15, 8, 7, 5, 3, 2]\n",
    "#sortList = [2, 3, 5, 7, 8, 15, 22, 100]\n",
    "cmp, swp = 0, 0\n",
    "insertionSortTimed(sortList)\n",
    "print(sortList)\n",
    "print(\"cmp: \", cmp)\n",
    "print(\"swp: \", swp)"
   ]
  },
  {
   "cell_type": "markdown",
   "metadata": {},
   "source": [
    "# Link list Insertion Sort"
   ]
  },
  {
   "cell_type": "code",
   "execution_count": 6,
   "metadata": {},
   "outputs": [],
   "source": [
    "class Node:\n",
    "    def __init__(self,value, nextNode):\n",
    "        self.value = value\n",
    "        self.nextNode = nextNode\n",
    "head = None"
   ]
  },
  {
   "cell_type": "code",
   "execution_count": 7,
   "metadata": {},
   "outputs": [],
   "source": [
    "def linkedInsertionSort(head, value):\n",
    "    p = Node (value, None)\n",
    "    if head == None:\n",
    "        head = p\n",
    "        return head\n",
    "    j = head\n",
    "    i = j\n",
    "    while j!= None and j.value < p.value:\n",
    "        i=j\n",
    "        j = j.nextNode\n",
    "    p.nextNode = j\n",
    "    if j == head:\n",
    "        return p\n",
    "    else:\n",
    "        i.nextNode = p\n",
    "    return head"
   ]
  },
  {
   "cell_type": "code",
   "execution_count": 8,
   "metadata": {},
   "outputs": [],
   "source": [
    "def linkListTraversal(head):\n",
    "    p = head\n",
    "    while p!= None:\n",
    "        print(p.value, end = \" \")\n",
    "        p = p.nextNode"
   ]
  },
  {
   "cell_type": "code",
   "execution_count": 9,
   "metadata": {},
   "outputs": [
    {
     "name": "stdout",
     "output_type": "stream",
     "text": [
      "[8, 5, 7, 3, 2, 100, 15, 22]\n",
      "2 3 5 7 8 15 22 100 "
     ]
    }
   ],
   "source": [
    "sortList = [8, 5, 7, 3, 2, 100, 15, 22]\n",
    "#sortList = [8, 5, 7, 3, 2, 100, 15, 22]; sortList.reverse()\n",
    "#sortList = [100, 22, 15, 8, 7, 5, 3, 2]\n",
    "#sortList = [2, 3, 5, 7, 8, 15, 22, 100]\n",
    "print(sortList)\n",
    "head = None\n",
    "for val in sortList:\n",
    "    head = linkedInsertionSort(head, val)\n",
    "linkListTraversal(head)"
   ]
  },
  {
   "cell_type": "code",
   "execution_count": null,
   "metadata": {},
   "outputs": [],
   "source": []
  }
 ],
 "metadata": {
  "kernelspec": {
   "display_name": "Python 3",
   "language": "python",
   "name": "python3"
  },
  "language_info": {
   "codemirror_mode": {
    "name": "ipython",
    "version": 3
   },
   "file_extension": ".py",
   "mimetype": "text/x-python",
   "name": "python",
   "nbconvert_exporter": "python",
   "pygments_lexer": "ipython3",
   "version": "3.6.8"
  }
 },
 "nbformat": 4,
 "nbformat_minor": 2
}
