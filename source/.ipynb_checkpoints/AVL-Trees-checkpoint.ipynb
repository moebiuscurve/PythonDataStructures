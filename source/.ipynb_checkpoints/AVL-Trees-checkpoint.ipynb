{
 "cells": [
  {
   "cell_type": "code",
   "execution_count": 1,
   "metadata": {},
   "outputs": [],
   "source": [
    "import numpy as np"
   ]
  },
  {
   "cell_type": "code",
   "execution_count": 2,
   "metadata": {},
   "outputs": [],
   "source": [
    "class Node:\n",
    "    def __init__(self,data, height, leftChild, rightChild):\n",
    "        self.leftChild = leftChild\n",
    "        self.data = data\n",
    "        self.height = height\n",
    "        self.rightChild = rightChild\n",
    "root, root1 = None, None"
   ]
  },
  {
   "cell_type": "code",
   "execution_count": 3,
   "metadata": {},
   "outputs": [],
   "source": [
    "def PreTraversal(p):\n",
    "    if p == None:\n",
    "        return None\n",
    "    print(p.data)\n",
    "    PreTraversal(p.leftChild)\n",
    "    PreTraversal(p.rightChild)\n",
    "#PreTraversal(root)"
   ]
  },
  {
   "cell_type": "code",
   "execution_count": 4,
   "metadata": {},
   "outputs": [],
   "source": [
    "def InTraversal(p):\n",
    "    if p == None:\n",
    "        return None\n",
    "    InTraversal(p.leftChild)\n",
    "    print(p.data)\n",
    "    InTraversal(p.rightChild)\n",
    "#InTraversal(root)"
   ]
  },
  {
   "cell_type": "code",
   "execution_count": 5,
   "metadata": {},
   "outputs": [],
   "source": [
    "def PostTraversal(p):\n",
    "    if p == None:\n",
    "        return None\n",
    "    PostTraversal(p.leftChild)\n",
    "    PostTraversal(p.rightChild)\n",
    "    print(p.data)\n",
    "#PostTraversal(root)"
   ]
  },
  {
   "cell_type": "code",
   "execution_count": 6,
   "metadata": {},
   "outputs": [],
   "source": [
    "def NodeHeight(p):\n",
    "    hl=p.leftChild.height if p!=None and p.leftChild!= None else 0\n",
    "    hr=p.rightChild.height if p!=None and p.rightChild!= None else 0\n",
    "    return hl+1 if hl> hr else hr+1"
   ]
  },
  {
   "cell_type": "code",
   "execution_count": 7,
   "metadata": {},
   "outputs": [],
   "source": [
    "def BalanceFactor(p):\n",
    "    hl=p.leftChild.height if p!=None and p.leftChild!= None else 0\n",
    "    hr=p.rightChild.height if p!=None and p.rightChild!= None else 0\n",
    "    return hl-hr"
   ]
  },
  {
   "cell_type": "code",
   "execution_count": 8,
   "metadata": {},
   "outputs": [],
   "source": [
    "def LLRotation(p):\n",
    "    global root\n",
    "    pl = p.leftChild\n",
    "    plr = pl.rightChild\n",
    "    \n",
    "    pl.rightChild = p\n",
    "    p.leftChild = plr\n",
    "    \n",
    "    p.height = NodeHeight(p)\n",
    "    pl.height = NodeHeight(pl)\n",
    "    # pl is the new root\n",
    "    if root == p:\n",
    "        root = pl\n",
    "    return pl"
   ]
  },
  {
   "cell_type": "code",
   "execution_count": 9,
   "metadata": {},
   "outputs": [],
   "source": [
    "def LRRotation(p):\n",
    "    global root\n",
    "    pl = p.leftChild\n",
    "    plr = pl.rightChild\n",
    "    \n",
    "    pl.rightChild = plr.leftChild\n",
    "    p.leftChild = plr.rightChild\n",
    "    plr.leftChild = pl\n",
    "    plr.rightChild = p\n",
    "    \n",
    "    pl.height = NodeHeight(pl)\n",
    "    p.height = NodeHeight(p)\n",
    "    plr.height = NodeHeight(plr)\n",
    "    # plr is the new root\n",
    "    if (root == p):\n",
    "        root == plr\n",
    "    return plr"
   ]
  },
  {
   "cell_type": "code",
   "execution_count": 10,
   "metadata": {},
   "outputs": [],
   "source": [
    "def RRRotation(p):\n",
    "    global root\n",
    "    pr = p.rightChild\n",
    "    prl = pr.leftChild\n",
    "    \n",
    "    pr.leftChild = p\n",
    "    p.rightChild = prl\n",
    "    \n",
    "    p.height = NodeHeight(p)\n",
    "    pr.height = NodeHeight(pr)\n",
    "    # pr is the new root\n",
    "    if (root == p):\n",
    "        root = pr\n",
    "    \n",
    "    return pr"
   ]
  },
  {
   "cell_type": "code",
   "execution_count": 11,
   "metadata": {},
   "outputs": [],
   "source": [
    "def RLRotation(p):\n",
    "    global root\n",
    "    pr = p.rightChild\n",
    "    prl = pr.leftChild\n",
    "    \n",
    "    pr.leftChild = prl.rightChild\n",
    "    p.rightChild = prl.leftChild\n",
    "    \n",
    "    prl.rightChild = pr\n",
    "    prl.leftChild = p\n",
    "    \n",
    "    pr.height= NodeHeight(pr)\n",
    "    p.height = NodeHeight(p)\n",
    "    prl.height = NodeHeight(prl)\n",
    "    # prl is the new root\n",
    "    if root == p:\n",
    "        root = prl\n",
    "    \n",
    "    return prl"
   ]
  },
  {
   "cell_type": "code",
   "execution_count": 12,
   "metadata": {},
   "outputs": [],
   "source": [
    "def AVLRInsert(p, key):\n",
    "    \n",
    "    if p == None:\n",
    "        t = Node(key,1, None, None)\n",
    "        return t\n",
    "    if key < p.data:\n",
    "        p.leftChild = AVLRInsert(p.leftChild,key)\n",
    "    elif key > p.data:\n",
    "        p.rightChild = AVLRInsert(p.rightChild,key)\n",
    "    p.height = NodeHeight(p)\n",
    "    #print(\"p.data:\", p.data)\n",
    "    #print(\"Balance factor: \",BalanceFactor(p))\n",
    "    if BalanceFactor(p) == 2 and BalanceFactor(p.leftChild) == 1:\n",
    "        print(\"LLRotation\")\n",
    "        return LLRotation(p)\n",
    "    if BalanceFactor(p) == 2 and BalanceFactor(p.leftChild) == -1:\n",
    "        print(\"LRRotation\")\n",
    "        return LRRotation(p)\n",
    "    if BalanceFactor(p) == -2 and BalanceFactor(p.rightChild) == -1:\n",
    "        print(\"RRRotation\")\n",
    "        return RRRotation(p)\n",
    "    if BalanceFactor(p) == -2 and BalanceFactor(p.rightChild) == 1:\n",
    "        print(\"RLRotation\")\n",
    "        return RLRotation(p)\n",
    "    \n",
    "    return p"
   ]
  },
  {
   "cell_type": "code",
   "execution_count": 13,
   "metadata": {},
   "outputs": [
    {
     "name": "stdout",
     "output_type": "stream",
     "text": [
      "RRRotation\n",
      "LRRotation\n",
      "RLRotation\n",
      "LLRotation\n",
      "Preorder\n",
      "25\n",
      "10\n",
      "5\n",
      "20\n",
      "28\n",
      "27\n",
      "30\n",
      "Inorder\n",
      "5\n",
      "10\n",
      "20\n",
      "25\n",
      "27\n",
      "28\n",
      "30\n"
     ]
    }
   ],
   "source": [
    "elemList1 = [10, 5, 2]\n",
    "elemList2 = [50, 10, 20]\n",
    "elemList3 = [50, 60,55]\n",
    "elemList4 = [50, 17, 76, 9, 23, 54, 14, 19, 72, 12, 67]\n",
    "elemList5 = [50, 17, 76, 9, 23, 54, 14, 19,72, 12, 5]\n",
    "elemList6 = [10, 20, 30, 25, 28, 27, 5]\n",
    "root = None\n",
    "for i in elemList6:\n",
    "    root=AVLRInsert(root, i)\n",
    "\n",
    "print(\"Preorder\")\n",
    "PreTraversal(root)\n",
    "print(\"Inorder\")\n",
    "InTraversal(root)"
   ]
  },
  {
   "cell_type": "code",
   "execution_count": 14,
   "metadata": {},
   "outputs": [],
   "source": [
    "def AVLDeleteNode(p, key):\n",
    "    if p == None:\n",
    "        return None\n",
    "    if p.leftChild == None and p.rightChild == None:\n",
    "        del p\n",
    "        return None\n",
    "    if key < p.data:\n",
    "        p.leftChild = AVLDeleteNode(p.leftChild,key)\n",
    "    elif key > p.data:\n",
    "        p.rightChild = AVLDeleteNode(p.rightChild, key)\n",
    "    else:\n",
    "        if height(p.leftChild) > height(p.rightChild):\n",
    "            q=InPre(p.leftChild)\n",
    "            p.data = q.data\n",
    "            p.leftChild = AVLDeleteNode(p.leftChild, q.data)\n",
    "        else:\n",
    "            q = InSucc(p.rightChild)\n",
    "            p.data = q.data\n",
    "            p.rightChild = AVLDeleteNode(p.rightChild, q.data)\n",
    "            \n",
    "    p.height = NodeHeight(p)    \n",
    "    if BalanceFactor(p) == 2:\n",
    "        if BalanceFactor(p.leftChild) == 1:\n",
    "            print(\"LLRotation: L 1 Rotation\")\n",
    "            return LLRotation(p)\n",
    "        if BalanceFactor(p.leftChild) == -1:\n",
    "            print(\"LRRotation: L -1 Rotation\")\n",
    "            return LRRotation(p)\n",
    "        if BalanceFactor(p.leftChild) == 0:\n",
    "            print(\"LLRotation: L 1/L 0 Rotation\")\n",
    "            return LLRotation(p)\n",
    "            #print(\"LRRotation: L -1/L 0 Rotation\")\n",
    "            #return LRRotation(p)\n",
    "    if BalanceFactor(p) == -2:\n",
    "        if BalanceFactor(p.rightChild) == -1:\n",
    "            print(\"RRRotation: R -1 Rotation\")\n",
    "            return RRRotation(p)\n",
    "        if BalanceFactor(p.rightChild) == 1:\n",
    "            print(\"RLRotation: R 1 Rotation\")\n",
    "            return RLRotation(p)\n",
    "        if BalanceFactor(p.rightChild) == 0:\n",
    "            print(\"RRRotation: R -1/R 0 Rotation\")\n",
    "            return RRRotation(p)\n",
    "            #print(\"RLRotation: R 1/R 0 Rotation\")\n",
    "            #return RLRotation(p)\n",
    "    return p"
   ]
  },
  {
   "cell_type": "code",
   "execution_count": 15,
   "metadata": {},
   "outputs": [
    {
     "name": "stdout",
     "output_type": "stream",
     "text": [
      "LLRotation: L 1/L 0 Rotation\n",
      "Preorder\n",
      "10\n",
      "5\n",
      "30\n",
      "20\n",
      "Inorder\n",
      "5\n",
      "10\n",
      "20\n",
      "30\n"
     ]
    }
   ],
   "source": [
    "elemList1 = [30, 20, 40, 10]\n",
    "elemList2 = [30, 10, 40, 20]\n",
    "elemList3 = [30, 10, 40, 5, 20]\n",
    "\n",
    "root = None\n",
    "for i in elemList3:\n",
    "    root=AVLRInsert(root, i)\n",
    "AVLDeleteNode(root, 40)\n",
    "print(\"Preorder\")\n",
    "PreTraversal(root)\n",
    "print(\"Inorder\")\n",
    "InTraversal(root)"
   ]
  },
  {
   "cell_type": "code",
   "execution_count": null,
   "metadata": {},
   "outputs": [],
   "source": []
  }
 ],
 "metadata": {
  "kernelspec": {
   "display_name": "Python 3",
   "language": "python",
   "name": "python3"
  },
  "language_info": {
   "codemirror_mode": {
    "name": "ipython",
    "version": 3
   },
   "file_extension": ".py",
   "mimetype": "text/x-python",
   "name": "python",
   "nbconvert_exporter": "python",
   "pygments_lexer": "ipython3",
   "version": "3.6.8"
  }
 },
 "nbformat": 4,
 "nbformat_minor": 2
}
