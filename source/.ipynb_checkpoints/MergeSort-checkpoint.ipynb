{
 "cells": [
  {
   "cell_type": "code",
   "execution_count": 1,
   "metadata": {},
   "outputs": [],
   "source": [
    "import numpy as np\n",
    "import math"
   ]
  },
  {
   "cell_type": "code",
   "execution_count": 2,
   "metadata": {},
   "outputs": [],
   "source": [
    "# This function expects the two subsequences to be sorted in themselves\n",
    "def mergeListSeqs(List1, l, mid, h):\n",
    "    i= l \n",
    "    j = mid+1 \n",
    "    k = l\n",
    "    mergeList = [None] * (h+1)    \n",
    "    while i <= mid and j <= h:\n",
    "        if List1[i] < List1[j]:\n",
    "            mergeList[k] = List1[i]\n",
    "            i += 1\n",
    "            k += 1\n",
    "        else:\n",
    "            mergeList[k] = List1[j]\n",
    "            j += 1\n",
    "            k += 1\n",
    "    while i <= mid:\n",
    "        mergeList[k] = List1[i]\n",
    "        k += 1\n",
    "        i += 1\n",
    "    while j <= h:\n",
    "        mergeList[k] = List1[j]\n",
    "        k += 1\n",
    "        j += 1\n",
    "    for m in range(l, h+1):\n",
    "        List1[m] = mergeList[m]"
   ]
  },
  {
   "cell_type": "markdown",
   "metadata": {},
   "source": [
    "# Recursive Merge Sort"
   ]
  },
  {
   "cell_type": "code",
   "execution_count": 3,
   "metadata": {},
   "outputs": [],
   "source": [
    "def recursiveMergeSort(List1, l , h):\n",
    "    if l< h:\n",
    "        mid = math.floor((l+h)/2)\n",
    "        recursiveMergeSort(List1, l, mid)\n",
    "        recursiveMergeSort(List1, mid+1, h)\n",
    "        mergeListSeqs(List1, l, mid, h)"
   ]
  },
  {
   "cell_type": "code",
   "execution_count": 4,
   "metadata": {},
   "outputs": [
    {
     "name": "stdout",
     "output_type": "stream",
     "text": [
      "[1, 2, 3, 4, 5, 6, 7, 8, 9, 10, 11, 12, 13, 100]\n"
     ]
    }
   ],
   "source": [
    "List1 = None\n",
    "#List1 = [100, 4, 6, 8, 10, 11, 12, 13, 1, 3, 5, 7, 9, 2, 90,150]\n",
    "List1 = [100, 4, 6, 8, 10, 11, 12, 13, 1, 3, 5, 7, 9, 2]\n",
    "#List1 = [8, 3, 7, 4, 9, 2, 6, 5, 150, 15, 100, 1]\n",
    "#List1 =[11, 13, 7, 12, 16, 9, 24, 5, 10, 3]\n",
    "recursiveMergeSort(List1, 0, len(List1)-1)\n",
    "print(List1)"
   ]
  },
  {
   "cell_type": "code",
   "execution_count": null,
   "metadata": {},
   "outputs": [],
   "source": []
  }
 ],
 "metadata": {
  "kernelspec": {
   "display_name": "Python 3",
   "language": "python",
   "name": "python3"
  },
  "language_info": {
   "codemirror_mode": {
    "name": "ipython",
    "version": 3
   },
   "file_extension": ".py",
   "mimetype": "text/x-python",
   "name": "python",
   "nbconvert_exporter": "python",
   "pygments_lexer": "ipython3",
   "version": "3.6.8"
  }
 },
 "nbformat": 4,
 "nbformat_minor": 2
}
