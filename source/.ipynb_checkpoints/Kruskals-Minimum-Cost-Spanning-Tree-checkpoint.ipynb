{
 "cells": [
  {
   "cell_type": "code",
   "execution_count": 1,
   "metadata": {},
   "outputs": [],
   "source": [
    "import numpy as np\n",
    "import math\n",
    "from collections import deque"
   ]
  },
  {
   "cell_type": "code",
   "execution_count": 2,
   "metadata": {},
   "outputs": [
    {
     "name": "stdout",
     "output_type": "stream",
     "text": [
      "N: 7\n"
     ]
    }
   ],
   "source": [
    "V = [0, 1, 2, 3, 4, 5 ,6]\n",
    "E = [(0,1),(1,2),(2,3), (3,4), (4,5), (0,5),(1,6),(4,6),(3,6)]\n",
    "EW = [25,    9,    10,    12,    18,    5,     6,   16,   11]\n",
    "G = (V,E)\n",
    "N = len(V)\n",
    "print(\"N:\", N)"
   ]
  },
  {
   "cell_type": "code",
   "execution_count": 3,
   "metadata": {},
   "outputs": [
    {
     "data": {
      "text/plain": [
       "'\\nV = [0, 1, 2, 3, 4, 5, 6, 7, 8]\\nE = [(0,1),(1,3), (3,4), (4,5), (5,6), (6,7), (7,8), (8,0), (1,8), (3,2), (3,6), (4,6), \\n     (2,8), (2,7)]\\nEW =[4,      8,     7,     9,    10,     2,     1,    8,      11,   2,     4,     14,    \\n       7,     6]\\nG = (V,E)\\nN = len(V)\\nprint(\"N:\", N)\\n'"
      ]
     },
     "execution_count": 3,
     "metadata": {},
     "output_type": "execute_result"
    }
   ],
   "source": [
    "'''\n",
    "V = [0, 1, 2, 3, 4, 5, 6, 7, 8]\n",
    "E = [(0,1),(1,3), (3,4), (4,5), (5,6), (6,7), (7,8), (8,0), (1,8), (3,2), (3,6), (4,6), \n",
    "     (2,8), (2,7)]\n",
    "EW =[4,      8,     7,     9,    10,     2,     1,    8,      11,   2,     4,     14,    \n",
    "       7,     6]\n",
    "G = (V,E)\n",
    "N = len(V)\n",
    "print(\"N:\", N)\n",
    "'''"
   ]
  },
  {
   "cell_type": "code",
   "execution_count": 4,
   "metadata": {},
   "outputs": [
    {
     "name": "stdout",
     "output_type": "stream",
     "text": [
      "inf 25 inf inf inf 5 inf \n",
      "25 inf 9 inf inf inf 6 \n",
      "inf 9 inf 10 inf inf inf \n",
      "inf inf 10 inf 12 inf 11 \n",
      "inf inf inf 12 inf 18 16 \n",
      "5 inf inf inf 18 inf inf \n",
      "inf 6 inf 11 16 inf inf \n"
     ]
    }
   ],
   "source": [
    "adjMatrix = []\n",
    "adjMatrix= [[np.inf for x in range(N)] for y in range(N)]\n",
    "#for i, j in E:\n",
    "#    adjMatrix[i][j]=1\n",
    "#    adjMatrix[j][i]=1\n",
    "\n",
    "for k in range(len(E)):\n",
    "    adjMatrix[E[k][0]][E[k][1]] = EW[k]\n",
    "    adjMatrix[E[k][1]][E[k][0]] = EW[k]\n",
    "for rows in adjMatrix:\n",
    "    for cols in rows:\n",
    "        print(cols, end = \" \")\n",
    "    print()"
   ]
  },
  {
   "cell_type": "code",
   "execution_count": 5,
   "metadata": {},
   "outputs": [],
   "source": [
    "edges = [[-1 for cols in range(len(E))] for rows in range(3)]\n",
    "for i in range(len(E)):\n",
    "    edges[0][i]= E[i][0]\n",
    "    edges[1][i]= E[i][1]\n",
    "    edges[2][i]= EW[i]\n",
    "Sets = [-1]*len(V)\n",
    "included = [0]* len(E)\n",
    "t =[[None for x in range(N-1)] for y in range(2)]"
   ]
  },
  {
   "cell_type": "code",
   "execution_count": 6,
   "metadata": {},
   "outputs": [],
   "source": [
    "def printt():\n",
    "    for i in range(2):\n",
    "        for j in range(N-1):\n",
    "            print(t[i][j], end =\" \")\n",
    "        print()\n",
    "def printEdges():\n",
    "    for i in range(3):\n",
    "        for j in range(len(E)):\n",
    "            print(\"%2d\" % edges[i][j], end= \"  \")\n",
    "        print()"
   ]
  },
  {
   "cell_type": "code",
   "execution_count": 7,
   "metadata": {},
   "outputs": [
    {
     "name": "stdout",
     "output_type": "stream",
     "text": [
      "None None None None None None \n",
      "None None None None None None \n",
      "\n",
      " 0   1   2   3   4   0   1   4   3  \n",
      " 1   2   3   4   5   5   6   6   6  \n",
      "25   9  10  12  18   5   6  16  11  \n",
      "\n",
      "[-1, -1, -1, -1, -1, -1, -1]\n",
      "\n",
      "[0, 0, 0, 0, 0, 0, 0, 0, 0]\n"
     ]
    }
   ],
   "source": [
    "printt()\n",
    "print()\n",
    "printEdges()\n",
    "print()\n",
    "print(Sets)\n",
    "print()\n",
    "print(included)"
   ]
  },
  {
   "cell_type": "code",
   "execution_count": 8,
   "metadata": {},
   "outputs": [],
   "source": [
    "def union(Sets, u,v):\n",
    "    if Sets[u] < Sets[v]:\n",
    "        Sets[u] += Sets[v]\n",
    "        Sets[v] = u\n",
    "    else:\n",
    "        Sets[v] += Sets[u]\n",
    "        Sets[u] = v"
   ]
  },
  {
   "cell_type": "code",
   "execution_count": 9,
   "metadata": {},
   "outputs": [],
   "source": [
    "def find(Sets, u):\n",
    "    x = u\n",
    "    while Sets[x]>0:\n",
    "        x = Sets[x]\n",
    "    return x"
   ]
  },
  {
   "cell_type": "code",
   "execution_count": 10,
   "metadata": {},
   "outputs": [],
   "source": [
    "def foldedFind(Sets, u):\n",
    "    x = u; v =0\n",
    "    while Sets[x]> 0:\n",
    "        x = Sets[x]\n",
    "    while u != x:\n",
    "        v = Sets[u]\n",
    "        Sets[u] = x\n",
    "        u = v\n",
    "    return x"
   ]
  },
  {
   "cell_type": "code",
   "execution_count": 11,
   "metadata": {},
   "outputs": [
    {
     "name": "stdout",
     "output_type": "stream",
     "text": [
      "N 7\n",
      "e 9\n"
     ]
    }
   ],
   "source": [
    "i = 0; j = None; k = None; n = N; e = len(E); minim=np.inf; u = None; v = None\n",
    "print(\"N\", N)\n",
    "print(\"e\", e)"
   ]
  },
  {
   "cell_type": "code",
   "execution_count": 12,
   "metadata": {},
   "outputs": [],
   "source": [
    "while i < n-1:\n",
    "    minim = np.inf\n",
    "    for j in range(e):\n",
    "        if included[j] == 0 and edges[2][j]<minim:\n",
    "            minim = edges[2][j]\n",
    "            k = j\n",
    "            u = edges[0][j]\n",
    "            v = edges[1][j]\n",
    "    if foldedFind(Sets, u) != foldedFind(Sets, v):\n",
    "        t[0][i] = u\n",
    "        t[1][i] = v\n",
    "        union(Sets, foldedFind(Sets, u), foldedFind(Sets, v))\n",
    "        i += 1\n",
    "    included[k] = 1"
   ]
  },
  {
   "cell_type": "code",
   "execution_count": 13,
   "metadata": {},
   "outputs": [
    {
     "name": "stdout",
     "output_type": "stream",
     "text": [
      "0 1 1 2 3 4 \n",
      "5 6 2 3 4 5 \n"
     ]
    }
   ],
   "source": [
    "printt()"
   ]
  },
  {
   "cell_type": "code",
   "execution_count": null,
   "metadata": {},
   "outputs": [],
   "source": []
  }
 ],
 "metadata": {
  "kernelspec": {
   "display_name": "Python 3",
   "language": "python",
   "name": "python3"
  },
  "language_info": {
   "codemirror_mode": {
    "name": "ipython",
    "version": 3
   },
   "file_extension": ".py",
   "mimetype": "text/x-python",
   "name": "python",
   "nbconvert_exporter": "python",
   "pygments_lexer": "ipython3",
   "version": "3.6.8"
  }
 },
 "nbformat": 4,
 "nbformat_minor": 2
}
