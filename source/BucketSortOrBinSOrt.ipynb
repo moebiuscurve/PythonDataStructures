{
 "cells": [
  {
   "cell_type": "code",
   "execution_count": 1,
   "metadata": {},
   "outputs": [],
   "source": [
    "import numpy as np\n",
    "import math"
   ]
  },
  {
   "cell_type": "code",
   "execution_count": 2,
   "metadata": {},
   "outputs": [],
   "source": [
    "class Node:\n",
    "    def __init__(self, value, nextNode):\n",
    "        self.value = value\n",
    "        self.nextNode = nextNode\n",
    "root = None"
   ]
  },
  {
   "cell_type": "code",
   "execution_count": 3,
   "metadata": {},
   "outputs": [],
   "source": [
    "def findMax(List1):\n",
    "    n = len(List1)\n",
    "    maximum = -np.inf\n",
    "    for i in List1:\n",
    "        if i > maximum:\n",
    "            maximum = i\n",
    "    return maximum"
   ]
  },
  {
   "cell_type": "code",
   "execution_count": 4,
   "metadata": {},
   "outputs": [],
   "source": [
    "def insertBins(BinsI, val):\n",
    "    pN = BinsI\n",
    "    pV = None\n",
    "    head = BinsI\n",
    "    while pN != None:\n",
    "        pV = pN\n",
    "        pN = pN.nextNode\n",
    "    p = Node(val, None)\n",
    "    if pV != None:\n",
    "        pV.nextNode = p\n",
    "    if head == None:\n",
    "        return p\n",
    "    return head"
   ]
  },
  {
   "cell_type": "code",
   "execution_count": 5,
   "metadata": {},
   "outputs": [],
   "source": [
    "def printBins(BinsI):\n",
    "    cnt = 0\n",
    "    for i in BinsI:\n",
    "        p = i\n",
    "        pr = True \n",
    "        if p == None:\n",
    "            pr = False\n",
    "        if pr == True:\n",
    "            print(\"(\",cnt,\":\", end = \" \")\n",
    "        while p != None:\n",
    "            print(p.value, end = \" \")\n",
    "            p = p.nextNode\n",
    "        cnt += 1\n",
    "        if pr == True:\n",
    "            print(\")\", end = \" \")"
   ]
  },
  {
   "cell_type": "code",
   "execution_count": 6,
   "metadata": {},
   "outputs": [],
   "source": [
    "def deleteBins(BinsI):\n",
    "    if BinsI == None:\n",
    "        return None, None\n",
    "    val = BinsI.value\n",
    "    head = BinsI.nextNode\n",
    "    del BinsI\n",
    "    return head, val"
   ]
  },
  {
   "cell_type": "code",
   "execution_count": 7,
   "metadata": {},
   "outputs": [],
   "source": [
    "def bucketSort(List1):\n",
    "    n = len(List1)\n",
    "    mx, i, j = None, None, None\n",
    "    mx = findMax(List1)\n",
    "    Bins = [None] *(mx+1)\n",
    "    for i in range(n):\n",
    "        Bins[List1[i]] = insertBins(Bins[List1[i]],List1[i])\n",
    "    i, j = 0, 0\n",
    "    while i < mx+1:\n",
    "        while Bins[i] != None:\n",
    "            Bins[i], List1[j] = deleteBins(Bins[i])\n",
    "            j += 1\n",
    "        i += 1"
   ]
  },
  {
   "cell_type": "code",
   "execution_count": 8,
   "metadata": {},
   "outputs": [
    {
     "name": "stdout",
     "output_type": "stream",
     "text": [
      "[12, 15, 22, 22, 22, 23, 25, 47, 55, 55, 83, 100, 100]\n"
     ]
    }
   ],
   "source": [
    "#sortList = [8, 5, 7, 3, 2, 100, 15, 22]\n",
    "sortList = [100, 22, 15, 8, 7, 5, 3, 2]\n",
    "#sortList = [2, 3, 5, 7, 8, 15, 22, 100]\n",
    "sortList = [83, 25, 47, 23, 22, 100, 100, 55, 55, 12, 15, 22,22]\n",
    "bucketSort(sortList)\n",
    "print(sortList)"
   ]
  },
  {
   "cell_type": "code",
   "execution_count": 9,
   "metadata": {},
   "outputs": [],
   "source": [
    "def bucketSortDebug(List1):\n",
    "    n = len(List1)\n",
    "    mx, i, j = None, None, None\n",
    "    mx = findMax(List1)\n",
    "    Bins = [None] *(mx+1)\n",
    "    for i in range(n):\n",
    "        print(\"ii:\", i)\n",
    "        Bins[List1[i]] = insertBins(Bins[List1[i]],List1[i])\n",
    "        print(\"List1[i]:\", List1[i])\n",
    "        printBins(Bins)\n",
    "        print()\n",
    "    i, j = 0, 0\n",
    "    while i < mx+1:\n",
    "        while Bins[i] != None:\n",
    "            print(\"i, j:\", i, j)\n",
    "            Bins[i], List1[j] = deleteBins(Bins[i])\n",
    "            printBins(Bins)\n",
    "            print()\n",
    "            j += 1\n",
    "        i += 1"
   ]
  },
  {
   "cell_type": "code",
   "execution_count": 10,
   "metadata": {},
   "outputs": [
    {
     "name": "stdout",
     "output_type": "stream",
     "text": [
      "ii: 0\n",
      "List1[i]: 100\n",
      "( 100 : 100 ) \n",
      "ii: 1\n",
      "List1[i]: 22\n",
      "( 22 : 22 ) ( 100 : 100 ) \n",
      "ii: 2\n",
      "List1[i]: 15\n",
      "( 15 : 15 ) ( 22 : 22 ) ( 100 : 100 ) \n",
      "ii: 3\n",
      "List1[i]: 8\n",
      "( 8 : 8 ) ( 15 : 15 ) ( 22 : 22 ) ( 100 : 100 ) \n",
      "ii: 4\n",
      "List1[i]: 7\n",
      "( 7 : 7 ) ( 8 : 8 ) ( 15 : 15 ) ( 22 : 22 ) ( 100 : 100 ) \n",
      "ii: 5\n",
      "List1[i]: 5\n",
      "( 5 : 5 ) ( 7 : 7 ) ( 8 : 8 ) ( 15 : 15 ) ( 22 : 22 ) ( 100 : 100 ) \n",
      "ii: 6\n",
      "List1[i]: 3\n",
      "( 3 : 3 ) ( 5 : 5 ) ( 7 : 7 ) ( 8 : 8 ) ( 15 : 15 ) ( 22 : 22 ) ( 100 : 100 ) \n",
      "ii: 7\n",
      "List1[i]: 2\n",
      "( 2 : 2 ) ( 3 : 3 ) ( 5 : 5 ) ( 7 : 7 ) ( 8 : 8 ) ( 15 : 15 ) ( 22 : 22 ) ( 100 : 100 ) \n",
      "i, j: 2 0\n",
      "( 3 : 3 ) ( 5 : 5 ) ( 7 : 7 ) ( 8 : 8 ) ( 15 : 15 ) ( 22 : 22 ) ( 100 : 100 ) \n",
      "i, j: 3 1\n",
      "( 5 : 5 ) ( 7 : 7 ) ( 8 : 8 ) ( 15 : 15 ) ( 22 : 22 ) ( 100 : 100 ) \n",
      "i, j: 5 2\n",
      "( 7 : 7 ) ( 8 : 8 ) ( 15 : 15 ) ( 22 : 22 ) ( 100 : 100 ) \n",
      "i, j: 7 3\n",
      "( 8 : 8 ) ( 15 : 15 ) ( 22 : 22 ) ( 100 : 100 ) \n",
      "i, j: 8 4\n",
      "( 15 : 15 ) ( 22 : 22 ) ( 100 : 100 ) \n",
      "i, j: 15 5\n",
      "( 22 : 22 ) ( 100 : 100 ) \n",
      "i, j: 22 6\n",
      "( 100 : 100 ) \n",
      "i, j: 100 7\n",
      "\n",
      "[2, 3, 5, 7, 8, 15, 22, 100]\n"
     ]
    }
   ],
   "source": [
    "#sortList = [8, 5, 7, 3, 2, 100, 15, 22]\n",
    "sortList = [100, 22, 15, 8, 7, 5, 3, 2]\n",
    "#sortList = [2, 3, 5, 7, 8, 15, 22, 100]\n",
    "#sortList = [83, 25, 47, 23, 22, 100, 100, 55, 55, 12, 15, 22,22]\n",
    "bucketSortDebug(sortList)\n",
    "print(sortList)"
   ]
  },
  {
   "cell_type": "code",
   "execution_count": null,
   "metadata": {},
   "outputs": [],
   "source": []
  }
 ],
 "metadata": {
  "kernelspec": {
   "display_name": "Python 3",
   "language": "python",
   "name": "python3"
  },
  "language_info": {
   "codemirror_mode": {
    "name": "ipython",
    "version": 3
   },
   "file_extension": ".py",
   "mimetype": "text/x-python",
   "name": "python",
   "nbconvert_exporter": "python",
   "pygments_lexer": "ipython3",
   "version": "3.6.8"
  }
 },
 "nbformat": 4,
 "nbformat_minor": 2
}
