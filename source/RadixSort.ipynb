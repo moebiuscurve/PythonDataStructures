{
 "cells": [
  {
   "cell_type": "code",
   "execution_count": 1,
   "metadata": {},
   "outputs": [],
   "source": [
    "import numpy as np\n",
    "import math"
   ]
  },
  {
   "cell_type": "code",
   "execution_count": 2,
   "metadata": {},
   "outputs": [],
   "source": [
    "class Node:\n",
    "    def __init__(self, value, nextNode):\n",
    "        self.value = value\n",
    "        self.nextNode = nextNode\n",
    "root = None"
   ]
  },
  {
   "cell_type": "code",
   "execution_count": 3,
   "metadata": {},
   "outputs": [
    {
     "data": {
      "text/plain": [
       "6"
      ]
     },
     "execution_count": 3,
     "metadata": {},
     "output_type": "execute_result"
    }
   ],
   "source": [
    "def findMaxDigits(List1):\n",
    "    maximum = -np.inf\n",
    "    for val in List1:\n",
    "        num = val\n",
    "        count = 0\n",
    "        while num != 0:\n",
    "            count += 1\n",
    "            num //= 10\n",
    "        if count > maximum:\n",
    "            maximum = count\n",
    "    return maximum\n",
    "List1 = [100,9999,1,2,34,900000]\n",
    "findMaxDigits(List1)"
   ]
  },
  {
   "cell_type": "code",
   "execution_count": 4,
   "metadata": {},
   "outputs": [],
   "source": [
    "def insertBins(BinsI, val):\n",
    "    pN = BinsI\n",
    "    pV = None\n",
    "    head = BinsI\n",
    "    while pN != None:\n",
    "        pV = pN\n",
    "        pN = pN.nextNode\n",
    "    p = Node(val, None)\n",
    "    if pV != None:\n",
    "        pV.nextNode = p\n",
    "    if head == None:\n",
    "        return p\n",
    "    return head"
   ]
  },
  {
   "cell_type": "code",
   "execution_count": 5,
   "metadata": {},
   "outputs": [],
   "source": [
    "def printBins(BinsI):\n",
    "    cnt = 0\n",
    "    for i in BinsI:\n",
    "        p = i\n",
    "        pr = True \n",
    "        if p == None:\n",
    "            pr = False\n",
    "        if pr == True:\n",
    "            print(\"(\",cnt,\":\", end = \" \")\n",
    "        while p != None:\n",
    "            print(p.value, end = \" \")\n",
    "            p = p.nextNode\n",
    "        cnt += 1\n",
    "        if pr == True:\n",
    "            print(\")\", end = \" \")"
   ]
  },
  {
   "cell_type": "code",
   "execution_count": 6,
   "metadata": {},
   "outputs": [],
   "source": [
    "def deleteBins(BinsI):\n",
    "    if BinsI == None:\n",
    "        return None, None\n",
    "    val = BinsI.value\n",
    "    head = BinsI.nextNode\n",
    "    del BinsI\n",
    "    return head, val"
   ]
  },
  {
   "cell_type": "code",
   "execution_count": 7,
   "metadata": {},
   "outputs": [],
   "source": [
    "def radixSort(List1):\n",
    "    n = len(List1)\n",
    "    numDigits = findMaxDigits(List1)\n",
    "    for passes in range(numDigits):\n",
    "        Bins = [None] *(10)\n",
    "        for i in range(n):\n",
    "            bIndex = (List1[i]//(10 ** passes)% 10)\n",
    "            Bins[bIndex] = insertBins(Bins[bIndex], List1[i])\n",
    "        i, j = 0, 0\n",
    "        while i < 10:\n",
    "            while Bins[i] != None:\n",
    "                Bins[i], List1[j] = deleteBins(Bins[i])\n",
    "                j += 1\n",
    "            i += 1"
   ]
  },
  {
   "cell_type": "code",
   "execution_count": 8,
   "metadata": {},
   "outputs": [
    {
     "name": "stdout",
     "output_type": "stream",
     "text": [
      "[12, 15, 22, 22, 22, 23, 25, 47, 55, 55, 83, 100, 100]\n"
     ]
    }
   ],
   "source": [
    "#sortList = [8, 5, 7, 3, 2, 100, 15, 22]\n",
    "#sortList = [100, 22, 15, 8, 7, 5, 3, 2]\n",
    "#sortList = [2, 3, 5, 7, 8, 15, 22, 100]\n",
    "sortList = [83, 25, 47, 23, 22, 100, 100, 55, 55, 12, 15, 22,22]\n",
    "radixSort(sortList)\n",
    "print(sortList)"
   ]
  },
  {
   "cell_type": "code",
   "execution_count": null,
   "metadata": {},
   "outputs": [],
   "source": []
  },
  {
   "cell_type": "code",
   "execution_count": 9,
   "metadata": {},
   "outputs": [],
   "source": [
    "def radixSortDebug(List1):\n",
    "    n = len(List1)\n",
    "    numDigits = findMaxDigits(List1)\n",
    "    for passes in range(numDigits):\n",
    "        print(\"passes:\", passes)\n",
    "        Bins = [None] *(10)\n",
    "        print(\"Bins\", Bins)\n",
    "        for i in range(n):\n",
    "            bIndex = (List1[i]//(10 ** passes)% 10)\n",
    "            print(\"bIndex, List[i]: \",bIndex, List1[i])\n",
    "            Bins[bIndex] = insertBins(Bins[bIndex], List1[i])\n",
    "            printBins(Bins)\n",
    "            print()\n",
    "        i, j = 0, 0\n",
    "        while i < 10:\n",
    "            while Bins[i] != None:\n",
    "                Bins[i], List1[j] = deleteBins(Bins[i])\n",
    "                j += 1\n",
    "            i += 1\n",
    "        print(\"List1 :\", List1)\n",
    "        print()"
   ]
  },
  {
   "cell_type": "code",
   "execution_count": 10,
   "metadata": {},
   "outputs": [
    {
     "name": "stdout",
     "output_type": "stream",
     "text": [
      "passes: 0\n",
      "Bins [None, None, None, None, None, None, None, None, None, None]\n",
      "bIndex, List[i]:  8 8\n",
      "( 8 : 8 ) \n",
      "bIndex, List[i]:  5 5\n",
      "( 5 : 5 ) ( 8 : 8 ) \n",
      "bIndex, List[i]:  7 7\n",
      "( 5 : 5 ) ( 7 : 7 ) ( 8 : 8 ) \n",
      "bIndex, List[i]:  3 3\n",
      "( 3 : 3 ) ( 5 : 5 ) ( 7 : 7 ) ( 8 : 8 ) \n",
      "bIndex, List[i]:  2 2\n",
      "( 2 : 2 ) ( 3 : 3 ) ( 5 : 5 ) ( 7 : 7 ) ( 8 : 8 ) \n",
      "bIndex, List[i]:  0 100\n",
      "( 0 : 100 ) ( 2 : 2 ) ( 3 : 3 ) ( 5 : 5 ) ( 7 : 7 ) ( 8 : 8 ) \n",
      "bIndex, List[i]:  5 15\n",
      "( 0 : 100 ) ( 2 : 2 ) ( 3 : 3 ) ( 5 : 5 15 ) ( 7 : 7 ) ( 8 : 8 ) \n",
      "bIndex, List[i]:  2 22\n",
      "( 0 : 100 ) ( 2 : 2 22 ) ( 3 : 3 ) ( 5 : 5 15 ) ( 7 : 7 ) ( 8 : 8 ) \n",
      "List1 : [100, 2, 22, 3, 5, 15, 7, 8]\n",
      "\n",
      "passes: 1\n",
      "Bins [None, None, None, None, None, None, None, None, None, None]\n",
      "bIndex, List[i]:  0 100\n",
      "( 0 : 100 ) \n",
      "bIndex, List[i]:  0 2\n",
      "( 0 : 100 2 ) \n",
      "bIndex, List[i]:  2 22\n",
      "( 0 : 100 2 ) ( 2 : 22 ) \n",
      "bIndex, List[i]:  0 3\n",
      "( 0 : 100 2 3 ) ( 2 : 22 ) \n",
      "bIndex, List[i]:  0 5\n",
      "( 0 : 100 2 3 5 ) ( 2 : 22 ) \n",
      "bIndex, List[i]:  1 15\n",
      "( 0 : 100 2 3 5 ) ( 1 : 15 ) ( 2 : 22 ) \n",
      "bIndex, List[i]:  0 7\n",
      "( 0 : 100 2 3 5 7 ) ( 1 : 15 ) ( 2 : 22 ) \n",
      "bIndex, List[i]:  0 8\n",
      "( 0 : 100 2 3 5 7 8 ) ( 1 : 15 ) ( 2 : 22 ) \n",
      "List1 : [100, 2, 3, 5, 7, 8, 15, 22]\n",
      "\n",
      "passes: 2\n",
      "Bins [None, None, None, None, None, None, None, None, None, None]\n",
      "bIndex, List[i]:  1 100\n",
      "( 1 : 100 ) \n",
      "bIndex, List[i]:  0 2\n",
      "( 0 : 2 ) ( 1 : 100 ) \n",
      "bIndex, List[i]:  0 3\n",
      "( 0 : 2 3 ) ( 1 : 100 ) \n",
      "bIndex, List[i]:  0 5\n",
      "( 0 : 2 3 5 ) ( 1 : 100 ) \n",
      "bIndex, List[i]:  0 7\n",
      "( 0 : 2 3 5 7 ) ( 1 : 100 ) \n",
      "bIndex, List[i]:  0 8\n",
      "( 0 : 2 3 5 7 8 ) ( 1 : 100 ) \n",
      "bIndex, List[i]:  0 15\n",
      "( 0 : 2 3 5 7 8 15 ) ( 1 : 100 ) \n",
      "bIndex, List[i]:  0 22\n",
      "( 0 : 2 3 5 7 8 15 22 ) ( 1 : 100 ) \n",
      "List1 : [2, 3, 5, 7, 8, 15, 22, 100]\n",
      "\n",
      "[2, 3, 5, 7, 8, 15, 22, 100]\n"
     ]
    }
   ],
   "source": [
    "sortList = [8, 5, 7, 3, 2, 100, 15, 22]\n",
    "#sortList = [100, 22, 15, 8, 7, 5, 3, 2]\n",
    "#sortList = [2, 3, 5, 7, 8, 15, 22, 100]\n",
    "#sortList = [83, 25, 47, 23, 22, 100, 100, 55, 55, 12, 15, 22,22]\n",
    "radixSortDebug(sortList)\n",
    "print(sortList)"
   ]
  },
  {
   "cell_type": "code",
   "execution_count": null,
   "metadata": {},
   "outputs": [],
   "source": []
  }
 ],
 "metadata": {
  "kernelspec": {
   "display_name": "Python 3",
   "language": "python",
   "name": "python3"
  },
  "language_info": {
   "codemirror_mode": {
    "name": "ipython",
    "version": 3
   },
   "file_extension": ".py",
   "mimetype": "text/x-python",
   "name": "python",
   "nbconvert_exporter": "python",
   "pygments_lexer": "ipython3",
   "version": "3.6.8"
  }
 },
 "nbformat": 4,
 "nbformat_minor": 2
}
