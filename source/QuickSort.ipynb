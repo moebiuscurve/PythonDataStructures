{
 "cells": [
  {
   "cell_type": "code",
   "execution_count": 1,
   "metadata": {},
   "outputs": [],
   "source": [
    "import numpy as np\n",
    "import sys"
   ]
  },
  {
   "cell_type": "code",
   "execution_count": 2,
   "metadata": {},
   "outputs": [],
   "source": [
    "# append float(\"inf\") to sortList before calling this function\n",
    "def partition(sortList, l, h):\n",
    "    pivot = sortList[l]\n",
    "    i, j = l, h\n",
    "    while True:\n",
    "        while True:\n",
    "            i += 1\n",
    "            if sortList[i] > pivot:\n",
    "                break\n",
    "        while True:\n",
    "            j -= 1\n",
    "            if sortList[j]<= pivot:\n",
    "                break\n",
    "        if i < j:\n",
    "            temp1= sortList[i]\n",
    "            sortList[i] = sortList[j]\n",
    "            sortList[j] = temp1\n",
    "        if i >= j:\n",
    "            break\n",
    "    temp2= sortList[l]\n",
    "    sortList[l]= sortList[j]\n",
    "    sortList[j] = temp2\n",
    "    return j"
   ]
  },
  {
   "cell_type": "code",
   "execution_count": 3,
   "metadata": {},
   "outputs": [],
   "source": [
    "def quickSort(sortList, l, h):\n",
    "    '''append float(\"inf\") to sortList before calling this function: sortList.append(float(\"inf\"))'''\n",
    "    j = None\n",
    "    if l< h:\n",
    "        j = partition(sortList, l, h)\n",
    "        quickSort(sortList, l, j)\n",
    "        quickSort(sortList, j+1, h)"
   ]
  },
  {
   "cell_type": "code",
   "execution_count": 4,
   "metadata": {},
   "outputs": [
    {
     "name": "stdout",
     "output_type": "stream",
     "text": [
      "[2, 3, 5, 7, 8, 15, 22, 100]\n"
     ]
    }
   ],
   "source": [
    "sortList = [8, 5, 7, 3, 2, 100, 15, 22]\n",
    "#sortList = [100, 22, 15, 8, 7, 5, 3, 2]\n",
    "#sortList = [2, 3, 5, 7, 8, 15, 22, 100]\n",
    "sortList.append(float(\"inf\"))\n",
    "quickSort(sortList, 0, len(sortList)-1)\n",
    "sortList.pop()\n",
    "print(sortList)"
   ]
  },
  {
   "cell_type": "code",
   "execution_count": null,
   "metadata": {},
   "outputs": [],
   "source": []
  }
 ],
 "metadata": {
  "kernelspec": {
   "display_name": "Python 3",
   "language": "python",
   "name": "python3"
  },
  "language_info": {
   "codemirror_mode": {
    "name": "ipython",
    "version": 3
   },
   "file_extension": ".py",
   "mimetype": "text/x-python",
   "name": "python",
   "nbconvert_exporter": "python",
   "pygments_lexer": "ipython3",
   "version": "3.6.8"
  }
 },
 "nbformat": 4,
 "nbformat_minor": 2
}
