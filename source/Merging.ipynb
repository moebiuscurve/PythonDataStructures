{
 "cells": [
  {
   "cell_type": "code",
   "execution_count": 1,
   "metadata": {},
   "outputs": [],
   "source": [
    "import numpy as np"
   ]
  },
  {
   "cell_type": "markdown",
   "metadata": {},
   "source": [
    "# merging\n",
    "<ol>\n",
    "    <li>Merging needs extra space: additional List</li>\n",
    "</ol>"
   ]
  },
  {
   "cell_type": "code",
   "execution_count": 2,
   "metadata": {},
   "outputs": [],
   "source": [
    "def merge2List(List1, List2):\n",
    "    m = len(List1)\n",
    "    n = len(List2)\n",
    "    mergeList = [None] * (m+n)\n",
    "    i, j, k = 0, 0, 0\n",
    "    while i < m and j < n:\n",
    "        if List1[i] < List2[j]:\n",
    "            mergeList[k] = List1[i]\n",
    "            i += 1\n",
    "            k += 1\n",
    "        else:\n",
    "            mergeList[k] = List2[j]\n",
    "            j += 1\n",
    "            k += 1\n",
    "    while i < m:\n",
    "        mergeList[k] = List1[i]\n",
    "        k += 1\n",
    "        i += 1\n",
    "    while j < n:\n",
    "        mergeList[k] = List2[j]\n",
    "        k += 1\n",
    "        j += 1\n",
    "    return mergeList"
   ]
  },
  {
   "cell_type": "code",
   "execution_count": 3,
   "metadata": {},
   "outputs": [
    {
     "name": "stdout",
     "output_type": "stream",
     "text": [
      "[1, 2, 3, 4, 5, 6, 7, 8, 9, 10, 11, 12, 13]\n"
     ]
    }
   ],
   "source": [
    "List1 = [1, 3, 5, 7, 9]\n",
    "List2 = [2, 4, 6, 8, 10, 11, 12, 13]\n",
    "List3 = merge2List(List1, List2)\n",
    "print(List3)"
   ]
  },
  {
   "cell_type": "code",
   "execution_count": 4,
   "metadata": {},
   "outputs": [],
   "source": [
    "def mergeListSeqs(List1, l, mid, h):\n",
    "    i, j, k = l, mid+1, l\n",
    "    mergeList = [None] * (h+1)\n",
    "    \n",
    "    while i <= mid and j <= h:\n",
    "        if List1[i] < List1[j]:\n",
    "            mergeList[k] = List1[i]\n",
    "            i += 1\n",
    "            k += 1\n",
    "        else:\n",
    "            mergeList[k] = List1[j]\n",
    "            j += 1\n",
    "            k += 1\n",
    "    while i <= mid:\n",
    "        mergeList[k] = List1[i]\n",
    "        k += 1\n",
    "        i += 1\n",
    "    while j <= h:\n",
    "        mergeList[k] = List1[j]\n",
    "        k += 1\n",
    "        j += 1\n",
    "    for m in range(l, h+1):\n",
    "        List1[m] = mergeList[m]"
   ]
  },
  {
   "cell_type": "code",
   "execution_count": 5,
   "metadata": {},
   "outputs": [
    {
     "name": "stdout",
     "output_type": "stream",
     "text": [
      "[1, 2, 3, 4, 5, 6, 7, 8, 9, 10, 11, 12, 13]\n"
     ]
    }
   ],
   "source": [
    "List1 = [2, 4, 6, 8, 10, 11, 12, 13, 1, 3, 5, 7, 9 ]\n",
    "mergeListSeqs(List1, 0, 7, len(List1)-1)\n",
    "print(List1)"
   ]
  },
  {
   "cell_type": "code",
   "execution_count": null,
   "metadata": {},
   "outputs": [],
   "source": []
  }
 ],
 "metadata": {
  "kernelspec": {
   "display_name": "Python 3",
   "language": "python",
   "name": "python3"
  },
  "language_info": {
   "codemirror_mode": {
    "name": "ipython",
    "version": 3
   },
   "file_extension": ".py",
   "mimetype": "text/x-python",
   "name": "python",
   "nbconvert_exporter": "python",
   "pygments_lexer": "ipython3",
   "version": "3.6.8"
  }
 },
 "nbformat": 4,
 "nbformat_minor": 2
}
