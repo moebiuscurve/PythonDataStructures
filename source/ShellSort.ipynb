{
 "cells": [
  {
   "cell_type": "code",
   "execution_count": 1,
   "metadata": {},
   "outputs": [],
   "source": [
    "import numpy as np\n",
    "import math"
   ]
  },
  {
   "cell_type": "code",
   "execution_count": 2,
   "metadata": {},
   "outputs": [],
   "source": [
    "def shellSort(List1):\n",
    "    i, j = None, None\n",
    "    n = len(List1)\n",
    "    gap = math.floor(n/2)\n",
    "    while gap >= 1:\n",
    "        i = gap\n",
    "        while i < n:\n",
    "            temp = List1[i]\n",
    "            j = i - gap\n",
    "            while j >= 0 and List1[j] > temp:\n",
    "                List1[j+gap] = List1[j]\n",
    "                j -= gap\n",
    "            List1[j + gap] = temp\n",
    "            # update i for while    \n",
    "            i += 1\n",
    "        # update gap for while\n",
    "        gap = math.floor(gap/2)"
   ]
  },
  {
   "cell_type": "code",
   "execution_count": 3,
   "metadata": {},
   "outputs": [
    {
     "name": "stdout",
     "output_type": "stream",
     "text": [
      "[2, 3, 5, 7, 8, 15, 22, 100]\n"
     ]
    }
   ],
   "source": [
    "#sortList = [8, 5, 7, 3, 2, 100, 15, 22]\n",
    "sortList = [100, 22, 15, 8, 7, 5, 3, 2]\n",
    "#sortList = [2, 3, 5, 7, 8, 15, 22, 100]\n",
    "#sortList = [94,12, 34, 54, 2, 3]\n",
    "shellSort(sortList)\n",
    "print(sortList)"
   ]
  },
  {
   "cell_type": "code",
   "execution_count": null,
   "metadata": {},
   "outputs": [],
   "source": []
  },
  {
   "cell_type": "code",
   "execution_count": 4,
   "metadata": {},
   "outputs": [],
   "source": [
    "# comparison and swap counts\n",
    "cmp = 0\n",
    "swp = 0\n",
    "def shellSortCmp(List1):\n",
    "    global cmp, swp\n",
    "    i, j = None, None\n",
    "    n = len(List1)\n",
    "    gap = math.floor(n/2)\n",
    "    while gap >= 1:\n",
    "        i = gap\n",
    "        while i < n:\n",
    "            temp = List1[i]\n",
    "            j = i - gap\n",
    "            cmpf = False\n",
    "            cmp += 1\n",
    "            while j >= 0 and List1[j] > temp:\n",
    "                if cmpf == False:\n",
    "                    cmpf =True\n",
    "                else:\n",
    "                    cmp += 1\n",
    "                swp += 1\n",
    "                List1[j+gap] = List1[j]\n",
    "                j -= gap\n",
    "            swp += 1\n",
    "            List1[j + gap] = temp\n",
    "            # update i for while    \n",
    "            i += 1\n",
    "        # update gap for while\n",
    "        gap = math.floor(gap/2)"
   ]
  },
  {
   "cell_type": "code",
   "execution_count": 5,
   "metadata": {},
   "outputs": [
    {
     "name": "stdout",
     "output_type": "stream",
     "text": [
      "[2, 3, 5, 7, 8, 15, 22, 100]\n",
      "cmp:  17\n",
      "swp:  29\n"
     ]
    }
   ],
   "source": [
    "sortList = [8, 5, 7, 3, 2, 100, 15, 22]\n",
    "sortList = [100, 22, 15, 8, 7, 5, 3, 2]\n",
    "#sortList = [2, 3, 5, 7, 8, 15, 22, 100]\n",
    "#sortList = [94,12, 34, 54, 2, 3]\n",
    "cmp, swp = 0, 0\n",
    "shellSortCmp(sortList)\n",
    "print(sortList)\n",
    "print(\"cmp: \", cmp)\n",
    "print(\"swp: \", swp)"
   ]
  },
  {
   "cell_type": "code",
   "execution_count": 6,
   "metadata": {},
   "outputs": [],
   "source": [
    "def shellSortDebug(List1):\n",
    "    i, j = None, None\n",
    "    n = len(List1)\n",
    "    print(List1)\n",
    "    gap = math.floor(n/2)\n",
    "    while gap >= 1:\n",
    "        print(\"gap :::::::::::::::::::::\", gap)\n",
    "        i = gap\n",
    "        print(\"i = gap :\",i )\n",
    "        while i < n:\n",
    "            print(\"i +=1: \", i)\n",
    "            temp = List1[i]\n",
    "            j = i - gap\n",
    "            print(\"j=i-gap :\",j)\n",
    "            while j >= 0 and List1[j] > temp:\n",
    "                print(\"j -=gap: \", j)\n",
    "                List1[j+gap] = List1[j]\n",
    "                print(\"List1: \", List1)\n",
    "                j -= gap\n",
    "            List1[j + gap] = temp\n",
    "            print(List1)\n",
    "            # update i for while    \n",
    "            i += 1\n",
    "        # update gap for while\n",
    "        gap = math.floor(gap/2)"
   ]
  },
  {
   "cell_type": "code",
   "execution_count": 7,
   "metadata": {},
   "outputs": [
    {
     "name": "stdout",
     "output_type": "stream",
     "text": [
      "[2, 3, 5, 7, 8, 15, 22, 100]\n",
      "gap ::::::::::::::::::::: 4\n",
      "i = gap : 4\n",
      "i +=1:  4\n",
      "j=i-gap : 0\n",
      "[2, 3, 5, 7, 8, 15, 22, 100]\n",
      "i +=1:  5\n",
      "j=i-gap : 1\n",
      "[2, 3, 5, 7, 8, 15, 22, 100]\n",
      "i +=1:  6\n",
      "j=i-gap : 2\n",
      "[2, 3, 5, 7, 8, 15, 22, 100]\n",
      "i +=1:  7\n",
      "j=i-gap : 3\n",
      "[2, 3, 5, 7, 8, 15, 22, 100]\n",
      "gap ::::::::::::::::::::: 2\n",
      "i = gap : 2\n",
      "i +=1:  2\n",
      "j=i-gap : 0\n",
      "[2, 3, 5, 7, 8, 15, 22, 100]\n",
      "i +=1:  3\n",
      "j=i-gap : 1\n",
      "[2, 3, 5, 7, 8, 15, 22, 100]\n",
      "i +=1:  4\n",
      "j=i-gap : 2\n",
      "[2, 3, 5, 7, 8, 15, 22, 100]\n",
      "i +=1:  5\n",
      "j=i-gap : 3\n",
      "[2, 3, 5, 7, 8, 15, 22, 100]\n",
      "i +=1:  6\n",
      "j=i-gap : 4\n",
      "[2, 3, 5, 7, 8, 15, 22, 100]\n",
      "i +=1:  7\n",
      "j=i-gap : 5\n",
      "[2, 3, 5, 7, 8, 15, 22, 100]\n",
      "gap ::::::::::::::::::::: 1\n",
      "i = gap : 1\n",
      "i +=1:  1\n",
      "j=i-gap : 0\n",
      "[2, 3, 5, 7, 8, 15, 22, 100]\n",
      "i +=1:  2\n",
      "j=i-gap : 1\n",
      "[2, 3, 5, 7, 8, 15, 22, 100]\n",
      "i +=1:  3\n",
      "j=i-gap : 2\n",
      "[2, 3, 5, 7, 8, 15, 22, 100]\n",
      "i +=1:  4\n",
      "j=i-gap : 3\n",
      "[2, 3, 5, 7, 8, 15, 22, 100]\n",
      "i +=1:  5\n",
      "j=i-gap : 4\n",
      "[2, 3, 5, 7, 8, 15, 22, 100]\n",
      "i +=1:  6\n",
      "j=i-gap : 5\n",
      "[2, 3, 5, 7, 8, 15, 22, 100]\n",
      "i +=1:  7\n",
      "j=i-gap : 6\n",
      "[2, 3, 5, 7, 8, 15, 22, 100]\n",
      "[2, 3, 5, 7, 8, 15, 22, 100]\n"
     ]
    }
   ],
   "source": [
    "#sortList = [8, 5, 7, 3, 2, 100, 15, 22]\n",
    "#sortList = [100, 22, 15, 8, 7, 5, 3, 2]\n",
    "sortList = [2, 3, 5, 7, 8, 15, 22, 100]\n",
    "#sortList = [94,12, 34, 54, 2, 3]\n",
    "shellSortDebug(sortList)\n",
    "print(sortList)"
   ]
  },
  {
   "cell_type": "code",
   "execution_count": null,
   "metadata": {},
   "outputs": [],
   "source": []
  }
 ],
 "metadata": {
  "kernelspec": {
   "display_name": "Python 3",
   "language": "python",
   "name": "python3"
  },
  "language_info": {
   "codemirror_mode": {
    "name": "ipython",
    "version": 3
   },
   "file_extension": ".py",
   "mimetype": "text/x-python",
   "name": "python",
   "nbconvert_exporter": "python",
   "pygments_lexer": "ipython3",
   "version": "3.6.8"
  }
 },
 "nbformat": 4,
 "nbformat_minor": 2
}
