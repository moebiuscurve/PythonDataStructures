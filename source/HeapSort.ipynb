{
 "cells": [
  {
   "cell_type": "code",
   "execution_count": 1,
   "metadata": {},
   "outputs": [],
   "source": [
    "import numpy as np\n",
    "import math"
   ]
  },
  {
   "cell_type": "code",
   "execution_count": 2,
   "metadata": {},
   "outputs": [],
   "source": [
    "def maxHeapReArrangeInsert(heapList, k):\n",
    "    temp = heapList[k]\n",
    "    i = k\n",
    "    while(i> 0 and temp > heapList[math.floor((i-1)/2)]):\n",
    "        heapList[i] = heapList[math.floor((i-1)/2)]\n",
    "        i = math.floor((i-1)/2)\n",
    "    heapList[i] = temp"
   ]
  },
  {
   "cell_type": "code",
   "execution_count": 3,
   "metadata": {},
   "outputs": [],
   "source": [
    "def maxHeapReArrangeDelete(heapList, k):\n",
    "    i = 0\n",
    "    eject = heapList[i]\n",
    "    heapList[i] = heapList[k]\n",
    "    heapList[k]= eject\n",
    "    k = k - 1\n",
    "    j = 2 * i + 1\n",
    "    while j<=k:\n",
    "        if not(j+1 >k) and heapList[j]< heapList[j+1]:\n",
    "            j = j+1\n",
    "        if heapList[i]< heapList[j]:\n",
    "            temp = heapList[i]\n",
    "            heapList[i] = heapList[j]\n",
    "            heapList[j]= temp\n",
    "            i = j\n",
    "            j = 2 * i +1\n",
    "        else:\n",
    "            break\n",
    "    return eject"
   ]
  },
  {
   "cell_type": "code",
   "execution_count": 4,
   "metadata": {},
   "outputs": [],
   "source": [
    "def heapSort(heapList):\n",
    "    n = len(heapList)\n",
    "    for i in range(n):\n",
    "        maxHeapReArrangeInsert(heapList, i)\n",
    "    for j in range(n - 1, -1,-1):\n",
    "        maxHeapReArrangeDelete(heapList, j)"
   ]
  },
  {
   "cell_type": "code",
   "execution_count": 5,
   "metadata": {},
   "outputs": [
    {
     "name": "stdout",
     "output_type": "stream",
     "text": [
      "[2, 3, 5, 7, 8, 15, 22, 100]\n"
     ]
    }
   ],
   "source": [
    "#sortList = [8, 5, 7, 3, 2, 100, 15, 22]\n",
    "sortList = [100, 22, 15, 8, 7, 5, 3, 2]\n",
    "#sortList = [2, 3, 5, 7, 8, 15, 22, 100]\n",
    "#sortList = [94,12, 34, 54, 2, 3]\n",
    "heapSort(sortList)\n",
    "print(sortList)"
   ]
  },
  {
   "cell_type": "code",
   "execution_count": null,
   "metadata": {},
   "outputs": [],
   "source": []
  }
 ],
 "metadata": {
  "kernelspec": {
   "display_name": "Python 3",
   "language": "python",
   "name": "python3"
  },
  "language_info": {
   "codemirror_mode": {
    "name": "ipython",
    "version": 3
   },
   "file_extension": ".py",
   "mimetype": "text/x-python",
   "name": "python",
   "nbconvert_exporter": "python",
   "pygments_lexer": "ipython3",
   "version": "3.6.8"
  }
 },
 "nbformat": 4,
 "nbformat_minor": 2
}
