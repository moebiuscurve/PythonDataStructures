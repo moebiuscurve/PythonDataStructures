{
 "cells": [
  {
   "cell_type": "code",
   "execution_count": 1,
   "metadata": {},
   "outputs": [],
   "source": [
    "import numpy as np\n",
    "import math\n",
    "from collections import deque"
   ]
  },
  {
   "cell_type": "code",
   "execution_count": 2,
   "metadata": {},
   "outputs": [
    {
     "name": "stdout",
     "output_type": "stream",
     "text": [
      "7\n"
     ]
    }
   ],
   "source": [
    "adjMatrix=[[0,1,1,1,0,0,0],\n",
    "          [1,0,1,0,0,0,0],\n",
    "          [1,1,0,1,1,0,0],\n",
    "          [1,0,1,0,1,0,0],\n",
    "          [0,0,1,1,0,1,1],\n",
    "          [0,0,0,0,1,0,0],\n",
    "          [0,0,0,0,1,0,0]\n",
    "         ]\n",
    "print(np.shape(adjMatrix)[0])"
   ]
  },
  {
   "cell_type": "code",
   "execution_count": 3,
   "metadata": {},
   "outputs": [
    {
     "name": "stdout",
     "output_type": "stream",
     "text": [
      "0 1 1 1 0 0 0 \n",
      "1 0 1 0 0 0 0 \n",
      "1 1 0 1 1 0 0 \n",
      "1 0 1 0 1 0 0 \n",
      "0 0 1 1 0 1 1 \n",
      "0 0 0 0 1 0 0 \n",
      "0 0 0 0 1 0 0 \n"
     ]
    }
   ],
   "source": [
    "adjMatrix = []\n",
    "V = [0,1,2,3,4,5,6]\n",
    "E = [(0,1),(1,2),(2,3), (3,0), (0,2), (2,4),(3,4),(4,5), (4,6)]\n",
    "G = (V,E)\n",
    "N = len(V)\n",
    "for k in range(N):\n",
    "    adjMatrix.append([0]*N)\n",
    "for i, j in E:\n",
    "    adjMatrix[i][j]=1\n",
    "    adjMatrix[j][i]=1\n",
    "\n",
    "for rows in adjMatrix:\n",
    "    for cols in rows:\n",
    "        print(cols, end = \" \")\n",
    "    print()"
   ]
  },
  {
   "cell_type": "code",
   "execution_count": 4,
   "metadata": {},
   "outputs": [],
   "source": [
    "def DFSIterative(adjMatrix, u):\n",
    "    stack = deque()\n",
    "    nr = np.shape(adjMatrix)[0]\n",
    "    visited = [False]* nr\n",
    "    print(u, end = \" \")\n",
    "    visited[u] = True\n",
    "    stack.append(u)\n",
    "    while len(stack) != 0:\n",
    "        u = stack.pop()\n",
    "        for v in range(nr):\n",
    "            if adjMatrix[u][v] == 1 and visited[v] == False:\n",
    "                stack.append(u)\n",
    "                print(v, end = \" \")\n",
    "                visited[v] = True\n",
    "                stack.append(v)\n",
    "                u = v\n",
    "                break"
   ]
  },
  {
   "cell_type": "code",
   "execution_count": 5,
   "metadata": {},
   "outputs": [
    {
     "name": "stdout",
     "output_type": "stream",
     "text": [
      "5 4 2 0 1 3 6 "
     ]
    }
   ],
   "source": [
    "DFSIterative(adjMatrix,5)"
   ]
  },
  {
   "cell_type": "code",
   "execution_count": null,
   "metadata": {},
   "outputs": [],
   "source": []
  },
  {
   "cell_type": "code",
   "execution_count": 6,
   "metadata": {},
   "outputs": [],
   "source": [
    "def DFSRecursive(adjMatrix, u):\n",
    "    global visited # make visited == False before calling this fn\n",
    "    nr = np.shape(adjMatrix)[0]\n",
    "    if visited[u] == False:\n",
    "        print(u, end = \" \")\n",
    "        visited[u] = True\n",
    "        for v in range(nr):\n",
    "            if adjMatrix[u][v] == 1 and visited[v] == False:\n",
    "                DFSRecursive(adjMatrix, v)"
   ]
  },
  {
   "cell_type": "code",
   "execution_count": 7,
   "metadata": {},
   "outputs": [
    {
     "name": "stdout",
     "output_type": "stream",
     "text": [
      "5 4 2 0 1 3 6 "
     ]
    }
   ],
   "source": [
    "nr = np.shape(adjMatrix)[0]\n",
    "visited = [False]* nr\n",
    "DFSRecursive(adjMatrix,5)"
   ]
  },
  {
   "cell_type": "code",
   "execution_count": null,
   "metadata": {},
   "outputs": [],
   "source": []
  }
 ],
 "metadata": {
  "kernelspec": {
   "display_name": "Python 3",
   "language": "python",
   "name": "python3"
  },
  "language_info": {
   "codemirror_mode": {
    "name": "ipython",
    "version": 3
   },
   "file_extension": ".py",
   "mimetype": "text/x-python",
   "name": "python",
   "nbconvert_exporter": "python",
   "pygments_lexer": "ipython3",
   "version": "3.6.8"
  }
 },
 "nbformat": 4,
 "nbformat_minor": 2
}
