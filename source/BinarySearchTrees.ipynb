{
 "cells": [
  {
   "cell_type": "code",
   "execution_count": 1,
   "metadata": {},
   "outputs": [],
   "source": [
    "import numpy as np"
   ]
  },
  {
   "cell_type": "code",
   "execution_count": 2,
   "metadata": {},
   "outputs": [],
   "source": [
    "class Node:\n",
    "    def __init__(self,data,leftChild, rightChild):\n",
    "        self.leftChild = leftChild\n",
    "        self.data = data\n",
    "        self.rightChild = rightChild\n",
    "root, root1 = None, None"
   ]
  },
  {
   "cell_type": "code",
   "execution_count": 3,
   "metadata": {},
   "outputs": [],
   "source": [
    "def BSTRInsert(p, key):\n",
    "    if p == None:\n",
    "        t = Node(key,None, None)\n",
    "        return t\n",
    "    if key < p.data:\n",
    "        p.leftChild = BSTRInsert(p.leftChild,key)\n",
    "    elif key > p.data:\n",
    "        p.rightChild = BSTRInsert(p.rightChild,key)\n",
    "    return p"
   ]
  },
  {
   "cell_type": "code",
   "execution_count": 4,
   "metadata": {},
   "outputs": [],
   "source": [
    "elemList = [10,5,20,8,30]\n",
    "root = None\n",
    "for i in elemList:\n",
    "    root = BSTRInsert(root, i)"
   ]
  },
  {
   "cell_type": "code",
   "execution_count": 5,
   "metadata": {},
   "outputs": [
    {
     "name": "stdout",
     "output_type": "stream",
     "text": [
      "10\n",
      "5\n",
      "8\n",
      "20\n",
      "30\n"
     ]
    }
   ],
   "source": [
    "def PreTraversal(p):\n",
    "    if p == None:\n",
    "        return None\n",
    "    print(p.data)\n",
    "    PreTraversal(p.leftChild)\n",
    "    PreTraversal(p.rightChild)\n",
    "PreTraversal(root)"
   ]
  },
  {
   "cell_type": "code",
   "execution_count": 6,
   "metadata": {},
   "outputs": [
    {
     "name": "stdout",
     "output_type": "stream",
     "text": [
      "5\n",
      "8\n",
      "10\n",
      "20\n",
      "30\n"
     ]
    }
   ],
   "source": [
    "def InTraversal(p):\n",
    "    if p == None:\n",
    "        return None\n",
    "    InTraversal(p.leftChild)\n",
    "    print(p.data)\n",
    "    InTraversal(p.rightChild)\n",
    "InTraversal(root)"
   ]
  },
  {
   "cell_type": "code",
   "execution_count": 7,
   "metadata": {},
   "outputs": [
    {
     "name": "stdout",
     "output_type": "stream",
     "text": [
      "8\n",
      "5\n",
      "30\n",
      "20\n",
      "10\n"
     ]
    }
   ],
   "source": [
    "def PostTraversal(p):\n",
    "    if p == None:\n",
    "        return None\n",
    "    PostTraversal(p.leftChild)\n",
    "    PostTraversal(p.rightChild)\n",
    "    print(p.data)\n",
    "PostTraversal(root)"
   ]
  },
  {
   "cell_type": "code",
   "execution_count": 8,
   "metadata": {},
   "outputs": [
    {
     "data": {
      "text/plain": [
       "3"
      ]
     },
     "execution_count": 8,
     "metadata": {},
     "output_type": "execute_result"
    }
   ],
   "source": [
    "# height begins from 1 for this function.Subtract 1 if you want to use it for situations where height begins from 0\n",
    "def height(p):\n",
    "    if p == None:\n",
    "        return 0\n",
    "    x = height(p.leftChild)\n",
    "    y = height(p.rightChild)\n",
    "    return x+1 if x>y else y+1\n",
    "height(root)"
   ]
  },
  {
   "cell_type": "code",
   "execution_count": 9,
   "metadata": {},
   "outputs": [],
   "source": [
    "# should be called on the leftChild of root\n",
    "def InPre(p):\n",
    "    while(p and p.rightChild != None):\n",
    "        p = p.rightChild\n",
    "    return p"
   ]
  },
  {
   "cell_type": "code",
   "execution_count": 10,
   "metadata": {},
   "outputs": [],
   "source": [
    "# should be called on the rightChild of root\n",
    "def InSucc(p):\n",
    "    while(p and p.leftChild != None):\n",
    "        p = p.leftChild\n",
    "    return p"
   ]
  },
  {
   "cell_type": "code",
   "execution_count": 11,
   "metadata": {},
   "outputs": [],
   "source": [
    "def deleteNode(p, key):\n",
    "    if p == None:\n",
    "        return None\n",
    "    if p.leftChild == None and p.rightChild == None:\n",
    "        del p\n",
    "        return None\n",
    "    if key < p.data:\n",
    "        p.leftChild = deleteNode(p.leftChild,key)\n",
    "    elif key > p.data:\n",
    "        p.rightChild = deleteNode(p.rightChild, key)\n",
    "    else:\n",
    "        if height(p.leftChild) > height(p.rightChild):\n",
    "            q=InPre(p.leftChild)\n",
    "            p.data = q.data\n",
    "            p.leftChild = deleteNode(p.leftChild, q.data)\n",
    "        else:\n",
    "            q = InSucc(p.rightChild)\n",
    "            p.data = q.data\n",
    "            p.rightChild = deleteNode(p.rightChild, q.data)\n",
    "    return p"
   ]
  },
  {
   "cell_type": "code",
   "execution_count": 12,
   "metadata": {},
   "outputs": [
    {
     "name": "stdout",
     "output_type": "stream",
     "text": [
      "20\n",
      "30\n",
      "40\n",
      "50\n",
      "60\n",
      "70\n",
      "80\n",
      "root:  50\n",
      "\n",
      "\n",
      "delete: 20\n",
      "30\n",
      "40\n",
      "50\n",
      "60\n",
      "70\n",
      "80\n",
      "root:  50\n",
      "\n",
      "\n",
      "delete: 30\n",
      "40\n",
      "50\n",
      "60\n",
      "70\n",
      "80\n",
      "root:  50\n",
      "\n",
      "\n",
      "delete: 50\n",
      "40\n",
      "60\n",
      "70\n",
      "80\n",
      "root:  60\n"
     ]
    }
   ],
   "source": [
    "elemList1 = [10,5,20,8,30]\n",
    "elemList2 = [50,10,40,20,30]\n",
    "elemList3 = [50,30,70,20,40,60,80]\n",
    "root = None\n",
    "for i in elemList3:\n",
    "    root = BSTRInsert(root, i)\n",
    "InTraversal(root)\n",
    "delList1 = [20,30]\n",
    "delList2 = [20,30]\n",
    "delList3 = [20,30,50]\n",
    "print(\"root: \", root.data)\n",
    "for j in delList3:\n",
    "    print(\"\\n\")\n",
    "    print(\"delete: {}\".format(j))\n",
    "    deleteNode(root, j)\n",
    "    InTraversal(root)\n",
    "    print(\"root: \", root.data)"
   ]
  },
  {
   "cell_type": "code",
   "execution_count": 13,
   "metadata": {},
   "outputs": [
    {
     "name": "stdout",
     "output_type": "stream",
     "text": [
      "10\n",
      "15\n",
      "20\n",
      "25\n",
      "30\n",
      "40\n",
      "45\n",
      "50\n"
     ]
    }
   ],
   "source": [
    "from collections import deque\n",
    "pre = [30, 20, 10, 15, 25, 40, 50, 45]\n",
    "root1 = None\n",
    "def createTreeFromPreorder(preList,n):\n",
    "    global root1\n",
    "    stack = deque()\n",
    "    i = 0\n",
    "    t = None\n",
    "    root1 = Node(preList[i], None, None)\n",
    "    i += 1\n",
    "    p = root1\n",
    "    while i < n:\n",
    "        if pre[i]< p.data:\n",
    "            t = Node(preList[i],None, None)\n",
    "            i += 1\n",
    "            p.leftChild = t\n",
    "            stack.append(p)\n",
    "            p = t\n",
    "        else:\n",
    "            if len(stack) == 0 or pre[i]> p.data and preList[i] < stack[-1].data:\n",
    "                t = Node(preList[i],None, None)\n",
    "                i += 1\n",
    "                p.rightChild = t\n",
    "                p = t\n",
    "            else:\n",
    "                p = stack.pop()\n",
    "\n",
    "createTreeFromPreorder(pre, 8)\n",
    "InTraversal(root1)"
   ]
  },
  {
   "cell_type": "code",
   "execution_count": null,
   "metadata": {},
   "outputs": [],
   "source": []
  }
 ],
 "metadata": {
  "kernelspec": {
   "display_name": "Python 3",
   "language": "python",
   "name": "python3"
  },
  "language_info": {
   "codemirror_mode": {
    "name": "ipython",
    "version": 3
   },
   "file_extension": ".py",
   "mimetype": "text/x-python",
   "name": "python",
   "nbconvert_exporter": "python",
   "pygments_lexer": "ipython3",
   "version": "3.6.8"
  }
 },
 "nbformat": 4,
 "nbformat_minor": 2
}
