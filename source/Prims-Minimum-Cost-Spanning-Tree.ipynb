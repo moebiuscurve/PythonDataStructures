{
 "cells": [
  {
   "cell_type": "code",
   "execution_count": 1,
   "metadata": {},
   "outputs": [],
   "source": [
    "import numpy as np\n",
    "import math\n",
    "from collections import deque\n",
    "#import networkx as nx"
   ]
  },
  {
   "cell_type": "code",
   "execution_count": 2,
   "metadata": {},
   "outputs": [
    {
     "name": "stdout",
     "output_type": "stream",
     "text": [
      "N: 7\n"
     ]
    }
   ],
   "source": [
    "V = [0, 1, 2, 3, 4, 5 ,6]\n",
    "E = [(0,1),(1,2),(2,3), (3,4), (4,5), (0,5),(1,6),(4,6),(3,6)]\n",
    "EW = [25,    9,    10,    12,    18,    5,     6,   16,   11]\n",
    "\n",
    "G = (V,E)\n",
    "N = len(V)\n",
    "print(\"N:\", N)"
   ]
  },
  {
   "cell_type": "code",
   "execution_count": 3,
   "metadata": {},
   "outputs": [
    {
     "name": "stdout",
     "output_type": "stream",
     "text": [
      "N: 9\n"
     ]
    }
   ],
   "source": [
    "V = [0, 1, 2, 3, 4, 5, 6, 7, 8]\n",
    "E = [(0,1),(1,3), (3,4), (4,5), (5,6), (6,7), (7,8), (8,0), (1,8), (3,2), (3,6), (4,6), \n",
    "     (2,8), (2,7)]\n",
    "EW =[4,      8,     7,     9,    10,     2,     1,    8,      11,   2,     4,     14,    \n",
    "       7,     6]\n",
    "G = (V,E)\n",
    "N = len(V)\n",
    "print(\"N:\", N)"
   ]
  },
  {
   "cell_type": "code",
   "execution_count": 4,
   "metadata": {},
   "outputs": [
    {
     "name": "stdout",
     "output_type": "stream",
     "text": [
      "inf 4 inf inf inf inf inf inf 8 \n",
      "4 inf inf 8 inf inf inf inf 11 \n",
      "inf inf inf 2 inf inf inf 6 7 \n",
      "inf 8 2 inf 7 inf 4 inf inf \n",
      "inf inf inf 7 inf 9 14 inf inf \n",
      "inf inf inf inf 9 inf 10 inf inf \n",
      "inf inf inf 4 14 10 inf 2 inf \n",
      "inf inf 6 inf inf inf 2 inf 1 \n",
      "8 11 7 inf inf inf inf 1 inf \n"
     ]
    }
   ],
   "source": [
    "adjMatrix = []\n",
    "adjMatrix= [[np.inf for x in range(N)] for y in range(N)]\n",
    "#for i, j in E:\n",
    "#    adjMatrix[i][j]=1\n",
    "#    adjMatrix[j][i]=1\n",
    "\n",
    "for k in range(len(E)):\n",
    "    adjMatrix[E[k][0]][E[k][1]] = EW[k]\n",
    "    adjMatrix[E[k][1]][E[k][0]] = EW[k]\n",
    "for rows in adjMatrix:\n",
    "    for cols in rows:\n",
    "        print(cols, end = \" \")\n",
    "    print()"
   ]
  },
  {
   "cell_type": "code",
   "execution_count": 5,
   "metadata": {},
   "outputs": [],
   "source": [
    "near = [np.inf]* N\n",
    "t =[[None for x in range(N-1)] for y in range(2)]\n",
    "i,j,k,u,v = None, None, None, None, None\n",
    "minim = np.inf"
   ]
  },
  {
   "cell_type": "code",
   "execution_count": 6,
   "metadata": {},
   "outputs": [],
   "source": [
    "def printt():\n",
    "    for i in range(2):\n",
    "        for j in range(N-1):\n",
    "            print(t[i][j], end =\" \")\n",
    "        print()"
   ]
  },
  {
   "cell_type": "code",
   "execution_count": 7,
   "metadata": {},
   "outputs": [
    {
     "name": "stdout",
     "output_type": "stream",
     "text": [
      "u:  7  v:  8\n",
      "near:  [inf, inf, inf, inf, inf, inf, inf, -1, -1]\n",
      "near:  [8, 8, 7, 8, 8, 8, 7, -1, -1]\n",
      "7 None None None None None None None \n",
      "8 None None None None None None None \n"
     ]
    }
   ],
   "source": [
    "minim = np.inf\n",
    "for i in range(N):\n",
    "    for j in range(i, N):\n",
    "        if adjMatrix[i][j]< minim:\n",
    "            minim = adjMatrix[i][j]\n",
    "            u = i\n",
    "            v = j\n",
    "print(\"u: \",u,\" v: \",v)\n",
    "t[0][0] = u\n",
    "t[1][0] = v\n",
    "near[u], near[v] = -1, -1\n",
    "print(\"near: \",near)\n",
    "for i in range(N):\n",
    "    if near[i]!= -1:\n",
    "        if adjMatrix[i][u] < adjMatrix[i][v]:\n",
    "            near[i] = u\n",
    "        else:\n",
    "            near[i] = v\n",
    "print(\"near: \",near)\n",
    "printt()"
   ]
  },
  {
   "cell_type": "code",
   "execution_count": 8,
   "metadata": {},
   "outputs": [
    {
     "name": "stdout",
     "output_type": "stream",
     "text": [
      "[8, 8, 7, 8, 8, 8, 7, -1, -1]\n",
      "7 None None None None None None None \n",
      "8 None None None None None None None \n",
      "\n",
      "[8, 8, 7, 6, 6, 6, -1, -1, -1]\n",
      "7 6 None None None None None None \n",
      "8 7 None None None None None None \n",
      "\n",
      "[8, 3, 3, -1, 3, 6, -1, -1, -1]\n",
      "7 6 3 None None None None None \n",
      "8 7 6 None None None None None \n",
      "\n",
      "[8, 3, -1, -1, 3, 6, -1, -1, -1]\n",
      "7 6 3 2 None None None None \n",
      "8 7 6 3 None None None None \n",
      "\n",
      "[8, 3, -1, -1, -1, 4, -1, -1, -1]\n",
      "7 6 3 2 4 None None None \n",
      "8 7 6 3 3 None None None \n",
      "\n",
      "[-1, 0, -1, -1, -1, 4, -1, -1, -1]\n",
      "7 6 3 2 4 0 None None \n",
      "8 7 6 3 3 8 None None \n",
      "\n",
      "[-1, -1, -1, -1, -1, 4, -1, -1, -1]\n",
      "7 6 3 2 4 0 1 None \n",
      "8 7 6 3 3 8 0 None \n",
      "\n",
      "[-1, -1, -1, -1, -1, -1, -1, -1, -1]\n",
      "7 6 3 2 4 0 1 5 \n",
      "8 7 6 3 3 8 0 4 \n",
      "\n",
      "\n",
      "7 6 3 2 4 0 1 5 \n",
      "8 7 6 3 3 8 0 4 \n"
     ]
    }
   ],
   "source": [
    "print(near)\n",
    "printt()\n",
    "print()\n",
    "for i in range(1,N-1):\n",
    "    minim = np.inf\n",
    "    for j in range(N):\n",
    "        if near[j] != -1 and adjMatrix[j][near[j]] < minim:\n",
    "            minim = adjMatrix[j][near[j]]\n",
    "            k = j\n",
    "    t[0][i] = k\n",
    "    t[1][i] = near[k]\n",
    "    near[k] = -1\n",
    "    for j in range(N):\n",
    "        if near[j] != -1 and adjMatrix[j][k]< adjMatrix[j][near[j]]:\n",
    "            near[j] = k\n",
    "    print(near)\n",
    "    printt()\n",
    "    print()\n",
    "print()\n",
    "printt()"
   ]
  },
  {
   "cell_type": "code",
   "execution_count": null,
   "metadata": {},
   "outputs": [],
   "source": []
  }
 ],
 "metadata": {
  "kernelspec": {
   "display_name": "Python 3",
   "language": "python",
   "name": "python3"
  },
  "language_info": {
   "codemirror_mode": {
    "name": "ipython",
    "version": 3
   },
   "file_extension": ".py",
   "mimetype": "text/x-python",
   "name": "python",
   "nbconvert_exporter": "python",
   "pygments_lexer": "ipython3",
   "version": "3.6.8"
  }
 },
 "nbformat": 4,
 "nbformat_minor": 2
}
